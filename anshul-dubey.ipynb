{
 "cells": [
  {
   "cell_type": "code",
   "execution_count": 1,
   "id": "6eedc7f5",
   "metadata": {
    "_cell_guid": "b1076dfc-b9ad-4769-8c92-a6c4dae69d19",
    "_uuid": "8f2839f25d086af736a60e9eeb907d3b93b6e0e5",
    "execution": {
     "iopub.execute_input": "2023-12-12T07:35:27.871245Z",
     "iopub.status.busy": "2023-12-12T07:35:27.870137Z",
     "iopub.status.idle": "2023-12-12T07:35:28.290180Z",
     "shell.execute_reply": "2023-12-12T07:35:28.288160Z"
    },
    "papermill": {
     "duration": 0.428962,
     "end_time": "2023-12-12T07:35:28.292879",
     "exception": false,
     "start_time": "2023-12-12T07:35:27.863917",
     "status": "completed"
    },
    "tags": []
   },
   "outputs": [
    {
     "name": "stdout",
     "output_type": "stream",
     "text": [
      "/kaggle/input/playground-series-s3e26/sample_submission.csv\n",
      "/kaggle/input/playground-series-s3e26/train.csv\n",
      "/kaggle/input/playground-series-s3e26/test.csv\n"
     ]
    }
   ],
   "source": [
    "# This Python 3 environment comes with many helpful analytics libraries installed\n",
    "# It is defined by the kaggle/python Docker image: https://github.com/kaggle/docker-python\n",
    "# For example, here's several helpful packages to load\n",
    "\n",
    "import numpy as np # linear algebra\n",
    "import pandas as pd # data processing, CSV file I/O (e.g. pd.read_csv)\n",
    "\n",
    "# Input data files are available in the read-only \"../input/\" directory\n",
    "# For example, running this (by clicking run or pressing Shift+Enter) will list all files under the input directory\n",
    "\n",
    "import os\n",
    "for dirname, _, filenames in os.walk('/kaggle/input'):\n",
    "    for filename in filenames:\n",
    "        print(os.path.join(dirname, filename))\n",
    "\n",
    "# You can write up to 20GB to the current directory (/kaggle/working/) that gets preserved as output when you create a version using \"Save & Run All\" \n",
    "# You can also write temporary files to /kaggle/temp/, but they won't be saved outside of the current session"
   ]
  },
  {
   "cell_type": "code",
   "execution_count": 2,
   "id": "d803ee14",
   "metadata": {
    "execution": {
     "iopub.execute_input": "2023-12-12T07:35:28.303313Z",
     "iopub.status.busy": "2023-12-12T07:35:28.302833Z",
     "iopub.status.idle": "2023-12-12T07:35:29.964193Z",
     "shell.execute_reply": "2023-12-12T07:35:29.963300Z"
    },
    "papermill": {
     "duration": 1.66976,
     "end_time": "2023-12-12T07:35:29.967164",
     "exception": false,
     "start_time": "2023-12-12T07:35:28.297404",
     "status": "completed"
    },
    "tags": []
   },
   "outputs": [],
   "source": [
    "import pandas as pd\n",
    "from sklearn.model_selection import train_test_split, GridSearchCV\n",
    "from sklearn.ensemble import RandomForestClassifier\n",
    "from sklearn.impute import SimpleImputer\n",
    "from sklearn.preprocessing import OneHotEncoder\n",
    "from sklearn.compose import ColumnTransformer\n",
    "from sklearn.pipeline import Pipeline\n",
    "from sklearn.metrics import log_loss\n",
    "\n",
    "\n",
    "\n"
   ]
  },
  {
   "cell_type": "code",
   "execution_count": 3,
   "id": "be69c283",
   "metadata": {
    "execution": {
     "iopub.execute_input": "2023-12-12T07:35:29.978180Z",
     "iopub.status.busy": "2023-12-12T07:35:29.977315Z",
     "iopub.status.idle": "2023-12-12T07:35:30.034985Z",
     "shell.execute_reply": "2023-12-12T07:35:30.034069Z"
    },
    "papermill": {
     "duration": 0.066049,
     "end_time": "2023-12-12T07:35:30.037744",
     "exception": false,
     "start_time": "2023-12-12T07:35:29.971695",
     "status": "completed"
    },
    "tags": []
   },
   "outputs": [],
   "source": [
    "# Load the dataset\n",
    "df = pd.read_csv('/kaggle/input/playground-series-s3e26/train.csv')"
   ]
  },
  {
   "cell_type": "code",
   "execution_count": 4,
   "id": "f88d68bf",
   "metadata": {
    "execution": {
     "iopub.execute_input": "2023-12-12T07:35:30.047821Z",
     "iopub.status.busy": "2023-12-12T07:35:30.047413Z",
     "iopub.status.idle": "2023-12-12T07:35:30.067344Z",
     "shell.execute_reply": "2023-12-12T07:35:30.066447Z"
    },
    "papermill": {
     "duration": 0.02751,
     "end_time": "2023-12-12T07:35:30.069545",
     "exception": false,
     "start_time": "2023-12-12T07:35:30.042035",
     "status": "completed"
    },
    "tags": []
   },
   "outputs": [],
   "source": [
    "# Separate features (X) and target variable (y)\n",
    "X = df.drop(['id', 'Status'], axis=1)\n",
    "y = df['Status']"
   ]
  },
  {
   "cell_type": "code",
   "execution_count": 5,
   "id": "1ec01d24",
   "metadata": {
    "execution": {
     "iopub.execute_input": "2023-12-12T07:35:30.079679Z",
     "iopub.status.busy": "2023-12-12T07:35:30.079089Z",
     "iopub.status.idle": "2023-12-12T07:35:30.087594Z",
     "shell.execute_reply": "2023-12-12T07:35:30.086841Z"
    },
    "papermill": {
     "duration": 0.015783,
     "end_time": "2023-12-12T07:35:30.089693",
     "exception": false,
     "start_time": "2023-12-12T07:35:30.073910",
     "status": "completed"
    },
    "tags": []
   },
   "outputs": [],
   "source": [
    "# Train-Validation Split\n",
    "X_train, X_valid, y_train, y_valid = train_test_split(X, y, test_size=0.2, random_state=42)\n"
   ]
  },
  {
   "cell_type": "code",
   "execution_count": 6,
   "id": "05f03cfd",
   "metadata": {
    "execution": {
     "iopub.execute_input": "2023-12-12T07:35:30.099638Z",
     "iopub.status.busy": "2023-12-12T07:35:30.099061Z",
     "iopub.status.idle": "2023-12-12T07:35:30.106060Z",
     "shell.execute_reply": "2023-12-12T07:35:30.105198Z"
    },
    "papermill": {
     "duration": 0.014845,
     "end_time": "2023-12-12T07:35:30.108668",
     "exception": false,
     "start_time": "2023-12-12T07:35:30.093823",
     "status": "completed"
    },
    "tags": []
   },
   "outputs": [],
   "source": [
    "numerical_features = X.select_dtypes(include=['number']).columns\n",
    "categorical_features = X.select_dtypes(include=['object']).columns\n",
    "\n",
    "numerical_transformer = SimpleImputer(strategy='mean')  # You can change the strategy as needed\n",
    "categorical_transformer = Pipeline(steps=[\n",
    "    ('imputer', SimpleImputer(strategy='most_frequent')),  # You can change the strategy as needed\n",
    "    ('onehot', OneHotEncoder(handle_unknown='ignore'))\n",
    "])\n"
   ]
  },
  {
   "cell_type": "code",
   "execution_count": 7,
   "id": "a6e3f957",
   "metadata": {
    "execution": {
     "iopub.execute_input": "2023-12-12T07:35:30.118865Z",
     "iopub.status.busy": "2023-12-12T07:35:30.118200Z",
     "iopub.status.idle": "2023-12-12T07:35:30.123085Z",
     "shell.execute_reply": "2023-12-12T07:35:30.122146Z"
    },
    "papermill": {
     "duration": 0.012372,
     "end_time": "2023-12-12T07:35:30.125176",
     "exception": false,
     "start_time": "2023-12-12T07:35:30.112804",
     "status": "completed"
    },
    "tags": []
   },
   "outputs": [],
   "source": [
    "\n",
    "preprocessor = ColumnTransformer(\n",
    "    transformers=[\n",
    "        ('num', numerical_transformer, numerical_features),\n",
    "        ('cat', categorical_transformer, categorical_features)\n",
    "    ])\n"
   ]
  },
  {
   "cell_type": "code",
   "execution_count": 8,
   "id": "3278c7e5",
   "metadata": {
    "execution": {
     "iopub.execute_input": "2023-12-12T07:35:30.134942Z",
     "iopub.status.busy": "2023-12-12T07:35:30.134506Z",
     "iopub.status.idle": "2023-12-12T07:36:19.331071Z",
     "shell.execute_reply": "2023-12-12T07:36:19.329739Z"
    },
    "papermill": {
     "duration": 49.20746,
     "end_time": "2023-12-12T07:36:19.336764",
     "exception": false,
     "start_time": "2023-12-12T07:35:30.129304",
     "status": "completed"
    },
    "tags": []
   },
   "outputs": [
    {
     "name": "stdout",
     "output_type": "stream",
     "text": [
      "Log Loss on Validation Set: 0.4636426637802973\n"
     ]
    }
   ],
   "source": [
    " \n",
    "\n",
    "model = RandomForestClassifier(random_state=42)\n",
    "\n",
    "# Create and train the pipeline\n",
    "pipeline = Pipeline(steps=[\n",
    "    ('preprocessor', preprocessor),\n",
    "    ('model', model)\n",
    "])\n",
    "\n",
    "param_grid = {\n",
    "    'preprocessor__num__strategy': ['mean', 'median'],\n",
    "    'model__n_estimators': [50, 100, 200],\n",
    "    'model__max_depth': [None, 10, 20],\n",
    "    \n",
    "}\n",
    "\n",
    "# Create GridSearchCV\n",
    "grid_search = GridSearchCV(pipeline, param_grid, cv=5, scoring='neg_log_loss', n_jobs=-1)\n",
    "grid_search.fit(X_train, y_train)\n",
    "\n",
    "# Get the best model and parameters\n",
    "best_params = grid_search.best_params_\n",
    "best_model = grid_search.best_estimator_\n",
    "\n",
    "# Model Evaluation\n",
    "y_pred_proba = best_model.predict_proba(X_valid)\n",
    "loss = log_loss(y_valid, y_pred_proba)\n",
    "print(f'Log Loss on Validation Set: {loss}')"
   ]
  },
  {
   "cell_type": "code",
   "execution_count": 9,
   "id": "53a51b61",
   "metadata": {
    "execution": {
     "iopub.execute_input": "2023-12-12T07:36:19.347251Z",
     "iopub.status.busy": "2023-12-12T07:36:19.346826Z",
     "iopub.status.idle": "2023-12-12T07:36:19.665445Z",
     "shell.execute_reply": "2023-12-12T07:36:19.664095Z"
    },
    "papermill": {
     "duration": 0.327769,
     "end_time": "2023-12-12T07:36:19.668807",
     "exception": false,
     "start_time": "2023-12-12T07:36:19.341038",
     "status": "completed"
    },
    "tags": []
   },
   "outputs": [],
   "source": [
    " test_data = pd.read_csv('/kaggle/input/playground-series-s3e26/test.csv')\n",
    "test_predictions = best_model.predict_proba(test_data.drop(['id'], axis=1))\n",
    "\n",
    "# Create the submission file\n",
    "submission = pd.DataFrame({\n",
    "    'id': test_data['id'],\n",
    "    'Status_C': test_predictions[:, 0],\n",
    "    'Status_CL': test_predictions[:, 1],\n",
    "    'Status_D': test_predictions[:, 2]\n",
    "})\n",
    "\n",
    "submission.to_csv('/kaggle/working/submission.csv', index=False)"
   ]
  }
 ],
 "metadata": {
  "kaggle": {
   "accelerator": "none",
   "dataSources": [
    {
     "databundleVersionId": 7000181,
     "sourceId": 60893,
     "sourceType": "competition"
    }
   ],
   "dockerImageVersionId": 30615,
   "isGpuEnabled": false,
   "isInternetEnabled": true,
   "language": "python",
   "sourceType": "notebook"
  },
  "kernelspec": {
   "display_name": "Python 3",
   "language": "python",
   "name": "python3"
  },
  "language_info": {
   "codemirror_mode": {
    "name": "ipython",
    "version": 3
   },
   "file_extension": ".py",
   "mimetype": "text/x-python",
   "name": "python",
   "nbconvert_exporter": "python",
   "pygments_lexer": "ipython3",
   "version": "3.10.12"
  },
  "papermill": {
   "default_parameters": {},
   "duration": 57.852446,
   "end_time": "2023-12-12T07:36:22.296374",
   "environment_variables": {},
   "exception": null,
   "input_path": "__notebook__.ipynb",
   "output_path": "__notebook__.ipynb",
   "parameters": {},
   "start_time": "2023-12-12T07:35:24.443928",
   "version": "2.4.0"
  }
 },
 "nbformat": 4,
 "nbformat_minor": 5
}
